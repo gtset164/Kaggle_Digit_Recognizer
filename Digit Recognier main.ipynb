{
 "cells": [
  {
   "cell_type": "code",
   "execution_count": 42,
   "metadata": {},
   "outputs": [],
   "source": [
    "import numpy as np\n",
    "import pandas as pd\n",
    "import matplotlib.pyplot as plt \n",
    "%matplotlib inline\n",
    "#import os\n"
   ]
  },
  {
   "cell_type": "code",
   "execution_count": 43,
   "metadata": {},
   "outputs": [
    {
     "name": "stdout",
     "output_type": "stream",
     "text": [
      "(42000, 785)\n",
      "(28000, 784)\n",
      "42000\n"
     ]
    }
   ],
   "source": [
    "df_train = pd.read_csv(r'D:\\ML\\Kaggle projects\\Digit Recognizer\\train.csv')\n",
    "df_test = pd.read_csv(r'D:\\ML\\Kaggle projects\\Digit Recognizer\\test.csv')\n",
    "train_size = df_train.shape[0]\n",
    "\n",
    "\n",
    "print(df_train.shape)\n",
    "print(df_test.shape)\n",
    "print(train_size)"
   ]
  },
  {
   "cell_type": "code",
   "execution_count": 44,
   "metadata": {},
   "outputs": [
    {
     "name": "stdout",
     "output_type": "stream",
     "text": [
      "(42000, 784)\n",
      "(42000,)\n"
     ]
    }
   ],
   "source": [
    "X_train = df_train.iloc[:,1:]\n",
    "print(X_train.shape)\n",
    "y_train = df_train.iloc[:,0]\n",
    "print(y_train.shape)\n",
    "\n",
    "\n"
   ]
  },
  {
   "cell_type": "code",
   "execution_count": 45,
   "metadata": {},
   "outputs": [],
   "source": [
    "def concat_dataset(train, test):\n",
    "    #return pd.concat([train, test], sort = True).reset_index(drop = True)\n",
    "    return pd.concat([train, test]).reset_index(drop = True)\n",
    "    \n",
    "\n",
    "def split_dataset(data, train_length):\n",
    "    return data.iloc[:train_length], data.iloc[train_length:]"
   ]
  },
  {
   "cell_type": "code",
   "execution_count": 46,
   "metadata": {
    "scrolled": true
   },
   "outputs": [
    {
     "name": "stdout",
     "output_type": "stream",
     "text": [
      "(70000, 784)\n",
      "(42000, 784)\n",
      "(28000, 784)\n"
     ]
    }
   ],
   "source": [
    "df_all = concat_dataset(X_train, df_test)\n",
    "\n",
    "#df_all.to_csv(r'D:\\ML\\Kaggle projects\\Digit Recognizer\\check_df_all.csv')\n",
    "\n",
    "\n",
    "print(df_all.shape)\n",
    "print(X_train.shape)\n",
    "print(df_test.shape)\n",
    "\n",
    "#print(df_all.columns)\n",
    "\n",
    "\n",
    "\n"
   ]
  },
  {
   "cell_type": "code",
   "execution_count": 47,
   "metadata": {},
   "outputs": [
    {
     "name": "stdout",
     "output_type": "stream",
     "text": [
      "[[  0   0   0   0   0   0   0   0   0   0   0   0   0   0   0   0   0   0\n",
      "    0   0   0   0   0   0   0   0   0   0]\n",
      " [  0   0   0   0   0   0   0   0   0   0   0   0   0   0   0   0   0   0\n",
      "    0   0   0   0   0   0   0   0   0   0]\n",
      " [  0   0   0   0   0   0   0   0   0   0   0   0   0   0   0   0   0   0\n",
      "    0   0   0   0   0   0   0   0   0   0]\n",
      " [  0   0   0   0   0   0   0   0   0   0   0   0   0   0   0   0   0   0\n",
      "    0   0   0   0   0   0   0   0   0   0]\n",
      " [  0   0   0   0   0   0   0   0   0   0   0   0   0   0   0   0   0   0\n",
      "    0   0   0   0   0   0   0   0   0   0]\n",
      " [  0   0   0   0   0   0   0   0   0   0   0   0   0   0   0   0   0   0\n",
      "    0   0   0   0   0   0   0   0   0   0]\n",
      " [  0   0   0   0   0   0   0   0   0   0   0   0   7  24  24  97 253 253\n",
      "  253 253 255 180  48   0   0   0   0   0]\n",
      " [  0   0   0   0   0   0   0   0   0   0   0  30 186 252 252 253 252 252\n",
      "  252 252 253 252 227  29   0   0   0   0]\n",
      " [  0   0   0   0   0   0   0   0   0   0  38 155 252 252 252 253 252 252\n",
      "  227  79 222 252 252 129   0   0   0   0]\n",
      " [  0   0   0   0   0   0   0   0   0  85 233 252 252 252 252 253 252 252\n",
      "  202  11 180 252 252 119   0   0   0   0]\n",
      " [  0   0   0   0   0   0   0   0  43 240 253 252 252 252 252 253 252 252\n",
      "  244 126 201 252 252 150   0   0   0   0]\n",
      " [  0   0   0   0   0   0   0   7 212 253 255 253 253 253 232 221  42   0\n",
      "  104 253 255 253 205  21   0   0   0   0]\n",
      " [  0   0   0   0   0   0   0  25 223 252 253 252 252 214  18   0   0  34\n",
      "  215 252 253 223  56   0   0   0   0   0]\n",
      " [  0   0   0   0   0   0   0   0  99 246 253 252 252  77   0   7  70 203\n",
      "  252 252 173  25   0   0   0   0   0   0]\n",
      " [  0   0   0   0   0   0   0   0   0  42 253 252 252 236 103 160 252 252\n",
      "  218 108   0   0   0   0   0   0   0   0]\n",
      " [  0   0   0   0   0   0   0   0   0   0 148 252 252 252 252 253 231 106\n",
      "   14   0   0   0   0   0   0   0   0   0]\n",
      " [  0   0   0   0   0   0   0   0   0   0  24 253 253 253 253 255 159   7\n",
      "    0   0   0   0   0   0   0   0   0   0]\n",
      " [  0   0   0   0   0   0   0   0   0  43 118 252 240 244 252 253 231  37\n",
      "    0   0   0   0   0   0   0   0   0   0]\n",
      " [  0   0   0   0   0   0   0  19 164 246 253 187  50  99 246 253 252  69\n",
      "    0   0   0   0   0   0   0   0   0   0]\n",
      " [  0   0   0   0   0   0   0  80 232 252 203  58   0   0 135 253 252 121\n",
      "    0   0   0   0   0   0   0   0   0   0]\n",
      " [  0   0   0   0   0   0  43 246 252 200  11   0   0   0 116 253 252  69\n",
      "    0   0   0   0   0   0   0   0   0   0]\n",
      " [  0   0   0   0   0   0 162 253 192  11   0   0   0   0 179 255 253  69\n",
      "    0   0   0   0   0   0   0   0   0   0]\n",
      " [  0   0   0   0   0   5 178 252 119   0   5  47  47 140 244 253 252  69\n",
      "    0   0   0   0   0   0   0   0   0   0]\n",
      " [  0   0   0   0   0   7 186 252 227 184 191 252 252 252 252 253 240  50\n",
      "    0   0   0   0   0   0   0   0   0   0]\n",
      " [  0   0   0   0   0  11 144 227 252 252 253 252 252 252 252  98  37   0\n",
      "    0   0   0   0   0   0   0   0   0   0]\n",
      " [  0   0   0   0   0   0   0  48 137 242 253 231 137 137  32   0   0   0\n",
      "    0   0   0   0   0   0   0   0   0   0]\n",
      " [  0   0   0   0   0   0   0   0   0   0   0   0   0   0   0   0   0   0\n",
      "    0   0   0   0   0   0   0   0   0   0]\n",
      " [  0   0   0   0   0   0   0   0   0   0   0   0   0   0   0   0   0   0\n",
      "    0   0   0   0   0   0   0   0   0   0]]\n"
     ]
    },
    {
     "data": {
      "image/png": "[encoded data removed]",
      "text/plain": [
       "<Figure size 432x288 with 1 Axes>"
      ]
     },
     "metadata": {
      "needs_background": "light"
     },
     "output_type": "display_data"
    }
   ],
   "source": [
    "# X_train column names has been wrong here!!!\n",
    "im = X_train.iloc[10,:].values.reshape(28,28)\n",
    "print(im)\n",
    "plt.imshow(im, cmap='gray')\n",
    "plt.show()\n",
    "\n",
    "#X_train.to_csv(r'D:\\ML\\Kaggle projects\\Digit Recognizer\\checkX_train.csv')"
   ]
  },
  {
   "cell_type": "code",
   "execution_count": 48,
   "metadata": {},
   "outputs": [
    {
     "name": "stdout",
     "output_type": "stream",
     "text": [
      "42000\n",
      "(42000, 784)\n",
      "(28000, 784)\n",
      "(28000, 784)\n"
     ]
    }
   ],
   "source": [
    "# Set all feature values as 1 when they are > 0\n",
    "df_all[df_all > 0] = 1\n",
    "#print(df_all.shape)\n",
    "#print(X_train.shape)\n",
    "#print(X_test.shape)\n",
    "print(train_size)\n",
    "X_train, X_test = split_dataset(df_all, train_size)\n",
    "print(X_train.shape)\n",
    "print(df_test.shape)\n",
    "print(X_test.shape)\n",
    "\n",
    "#print(X_train.iloc[:,128])\n",
    "\n"
   ]
  },
  {
   "cell_type": "code",
   "execution_count": 49,
   "metadata": {},
   "outputs": [
    {
     "name": "stdout",
     "output_type": "stream",
     "text": [
      "[[0 0 0 0 0 0 0 0 0 0 0 0 0 0 0 0 0 0 0 0 0 0 0 0 0 0 0 0]\n",
      " [0 0 0 0 0 0 0 0 0 0 0 0 0 0 0 0 0 0 0 0 0 0 0 0 0 0 0 0]\n",
      " [0 0 0 0 0 0 0 0 0 0 0 0 0 0 0 0 0 0 0 0 0 0 0 0 0 0 0 0]\n",
      " [0 0 0 0 0 0 0 0 0 0 0 0 0 0 0 0 0 0 0 0 0 0 0 0 0 0 0 0]\n",
      " [0 0 0 0 0 0 0 0 0 0 0 0 0 0 0 0 0 0 0 0 0 0 0 0 0 0 0 0]\n",
      " [0 0 0 0 0 0 0 0 0 0 0 0 0 0 0 0 0 0 0 0 0 0 0 0 0 0 0 0]\n",
      " [0 0 0 0 0 0 0 0 0 0 0 0 1 1 1 1 1 1 1 1 1 1 1 0 0 0 0 0]\n",
      " [0 0 0 0 0 0 0 0 0 0 0 1 1 1 1 1 1 1 1 1 1 1 1 1 0 0 0 0]\n",
      " [0 0 0 0 0 0 0 0 0 0 1 1 1 1 1 1 1 1 1 1 1 1 1 1 0 0 0 0]\n",
      " [0 0 0 0 0 0 0 0 0 1 1 1 1 1 1 1 1 1 1 1 1 1 1 1 0 0 0 0]\n",
      " [0 0 0 0 0 0 0 0 1 1 1 1 1 1 1 1 1 1 1 1 1 1 1 1 0 0 0 0]\n",
      " [0 0 0 0 0 0 0 1 1 1 1 1 1 1 1 1 1 0 1 1 1 1 1 1 0 0 0 0]\n",
      " [0 0 0 0 0 0 0 1 1 1 1 1 1 1 1 0 0 1 1 1 1 1 1 0 0 0 0 0]\n",
      " [0 0 0 0 0 0 0 0 1 1 1 1 1 1 0 1 1 1 1 1 1 1 0 0 0 0 0 0]\n",
      " [0 0 0 0 0 0 0 0 0 1 1 1 1 1 1 1 1 1 1 1 0 0 0 0 0 0 0 0]\n",
      " [0 0 0 0 0 0 0 0 0 0 1 1 1 1 1 1 1 1 1 0 0 0 0 0 0 0 0 0]\n",
      " [0 0 0 0 0 0 0 0 0 0 1 1 1 1 1 1 1 1 0 0 0 0 0 0 0 0 0 0]\n",
      " [0 0 0 0 0 0 0 0 0 1 1 1 1 1 1 1 1 1 0 0 0 0 0 0 0 0 0 0]\n",
      " [0 0 0 0 0 0 0 1 1 1 1 1 1 1 1 1 1 1 0 0 0 0 0 0 0 0 0 0]\n",
      " [0 0 0 0 0 0 0 1 1 1 1 1 0 0 1 1 1 1 0 0 0 0 0 0 0 0 0 0]\n",
      " [0 0 0 0 0 0 1 1 1 1 1 0 0 0 1 1 1 1 0 0 0 0 0 0 0 0 0 0]\n",
      " [0 0 0 0 0 0 1 1 1 1 0 0 0 0 1 1 1 1 0 0 0 0 0 0 0 0 0 0]\n",
      " [0 0 0 0 0 1 1 1 1 0 1 1 1 1 1 1 1 1 0 0 0 0 0 0 0 0 0 0]\n",
      " [0 0 0 0 0 1 1 1 1 1 1 1 1 1 1 1 1 1 0 0 0 0 0 0 0 0 0 0]\n",
      " [0 0 0 0 0 1 1 1 1 1 1 1 1 1 1 1 1 0 0 0 0 0 0 0 0 0 0 0]\n",
      " [0 0 0 0 0 0 0 1 1 1 1 1 1 1 1 0 0 0 0 0 0 0 0 0 0 0 0 0]\n",
      " [0 0 0 0 0 0 0 0 0 0 0 0 0 0 0 0 0 0 0 0 0 0 0 0 0 0 0 0]\n",
      " [0 0 0 0 0 0 0 0 0 0 0 0 0 0 0 0 0 0 0 0 0 0 0 0 0 0 0 0]]\n"
     ]
    },
    {
     "data": {
      "image/png": "[encoded data removed]",
      "text/plain": [
       "<Figure size 432x288 with 1 Axes>"
      ]
     },
     "metadata": {
      "needs_background": "light"
     },
     "output_type": "display_data"
    },
    {
     "name": "stdout",
     "output_type": "stream",
     "text": [
      "(42000, 784)\n",
      "(42000,)\n"
     ]
    }
   ],
   "source": [
    "im = X_train.iloc[10,:].values.reshape(28,28)\n",
    "print(im)\n",
    "plt.imshow(im, cmap='gray')\n",
    "plt.show()\n",
    "print(X_train.shape)\n",
    "print(y_train.shape)"
   ]
  },
  {
   "cell_type": "code",
   "execution_count": 50,
   "metadata": {},
   "outputs": [],
   "source": [
    "from sklearn.model_selection import train_test_split\n",
    "X_train_t, X_test_t, y_train_t, y_test_t = train_test_split(X_train, y_train, test_size = 0.3, random_state = 42)"
   ]
  },
  {
   "cell_type": "code",
   "execution_count": 51,
   "metadata": {},
   "outputs": [
    {
     "name": "stdout",
     "output_type": "stream",
     "text": [
      "Neural Network accuracy on training set is  0.9937414965986394\n",
      "Neural Network accuracy on training - CV set is  0.9691269841269842\n"
     ]
    }
   ],
   "source": [
    "from sklearn.neural_network import MLPClassifier\n",
    "\n",
    "clf = MLPClassifier(solver='adam', alpha=0.2,max_iter=500,learning_rate='invscaling',\n",
    "                    hidden_layer_sizes=(100,), random_state = 1)\n",
    "nn = clf.fit(X_train_t, y_train_t)\n",
    "score = nn.score(X_train_t, y_train_t)\n",
    "print('Neural Network accuracy on training set is ', score)\n",
    "score = nn.score(X_test_t, y_test_t)\n",
    "print('Neural Network accuracy on training - CV set is ', score)\n"
   ]
  },
  {
   "cell_type": "code",
   "execution_count": 59,
   "metadata": {},
   "outputs": [
    {
     "name": "stdout",
     "output_type": "stream",
     "text": [
      "(28000, 784)\n",
      "[2 0 9 ... 3 9 2]\n",
      "(28000,)\n"
     ]
    }
   ],
   "source": [
    "print(X_test.shape)\n",
    "pred = nn.predict(X_test)\n",
    "print(pred)\n",
    "print(pred.shape)\n",
    "np.savetxt(r'D:\\ML\\Kaggle projects\\Digit Recognizer\\pred_data.csv', pred)"
   ]
  },
  {
   "cell_type": "code",
   "execution_count": 60,
   "metadata": {},
   "outputs": [
    {
     "name": "stdout",
     "output_type": "stream",
     "text": [
      "Random Forest accuracy on training set is  1.0\n",
      "Random Forest accuracy on training - CV set is  0.9691269841269842\n"
     ]
    }
   ],
   "source": [
    "from sklearn.ensemble import RandomForestClassifier\n",
    "\n",
    "clf = RandomForestClassifier(n_estimators = 80)\n",
    "rf = clf.fit(X_train_t, y_train_t)\n",
    "score = rf.score(X_train_t, y_train_t)\n",
    "print('Random Forest accuracy on training set is ', score)\n",
    "score = nn.score(X_test_t, y_test_t)\n",
    "print('Random Forest accuracy on training - CV set is ', score)"
   ]
  },
  {
   "cell_type": "code",
   "execution_count": null,
   "metadata": {},
   "outputs": [],
   "source": [
    "from sklearn.neighbors import KNeighborsClassifier\n",
    "for k in range(3,5):\n",
    "    clf = KNeighborsClassifier(n_neighbors=k)\n",
    "    knn = clf.fit(X_train_t, y_train_t)\n",
    "    score = knn.score(X_train_t, y_train_t)\n",
    "    print('KNN accuracy on training set is ', score, ',k =', k)\n",
    "    score = knn.score(X_test_t, y_test_t)\n",
    "    print('KNN accuracy on training set CV data is ', score, '.k =', k)"
   ]
  }
 ],
 "metadata": {
  "kernelspec": {
   "display_name": "Python 3",
   "language": "python",
   "name": "python3"
  },
  "language_info": {
   "codemirror_mode": {
    "name": "ipython",
    "version": 3
   },
   "file_extension": ".py",
   "mimetype": "text/x-python",
   "name": "python",
   "nbconvert_exporter": "python",
   "pygments_lexer": "ipython3",
   "version": "3.7.3"
  }
 },
 "nbformat": 4,
 "nbformat_minor": 2
}
